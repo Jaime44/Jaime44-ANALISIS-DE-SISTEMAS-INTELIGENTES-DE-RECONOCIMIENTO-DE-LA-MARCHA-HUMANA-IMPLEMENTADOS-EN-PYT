{
 "cells": [
  {
   "cell_type": "code",
   "execution_count": 1,
   "id": "751e2ccc",
   "metadata": {},
   "outputs": [],
   "source": [
    "from tqdm import tqdm\n",
    "import torch\n",
    "import torchvision\n",
    "import torchvision.transforms as transforms\n",
    "from tqdm import tqdm\n",
    "import numpy as np"
   ]
  },
  {
   "cell_type": "code",
   "execution_count": 3,
   "id": "4e24d4fe",
   "metadata": {},
   "outputs": [
    {
     "name": "stderr",
     "output_type": "stream",
     "text": [
      "Loading...: 100%|██████████| 5000/5000 [00:22<00:00, 415.40it/s]"
     ]
    }
   ],
   "source": [
    "loop = tqdm(total = 5000, position =0, leave=False)\n",
    "for k in range (1,5000+1):\n",
    "    loop.set_description(\"Loading...\".format(k))\n",
    "    loop.update(1)\n",
    "# loop.close()"
   ]
  },
  {
   "cell_type": "code",
   "execution_count": 9,
   "id": "49bed89b",
   "metadata": {},
   "outputs": [
    {
     "data": {
      "text/plain": [
       "[2, 4, 6, 8, 10, 12]"
      ]
     },
     "execution_count": 9,
     "metadata": {},
     "output_type": "execute_result"
    }
   ],
   "source": [
    "x = [1,2,3,4,5,6]\n",
    "y = [z * 2 for z in x]\n",
    "yº"
   ]
  },
  {
   "cell_type": "code",
   "execution_count": 17,
   "id": "45a1bed1",
   "metadata": {},
   "outputs": [
    {
     "data": {
      "text/plain": [
       "True"
      ]
     },
     "execution_count": 17,
     "metadata": {},
     "output_type": "execute_result"
    }
   ],
   "source": [
    "\n",
    "1000000000 == int(1e9)"
   ]
  },
  {
   "cell_type": "markdown",
   "id": "67210acd",
   "metadata": {},
   "source": [
    "# "
   ]
  }
 ],
 "metadata": {
  "kernelspec": {
   "display_name": "Python 3",
   "language": "python",
   "name": "python3"
  },
  "language_info": {
   "codemirror_mode": {
    "name": "ipython",
    "version": 3
   },
   "file_extension": ".py",
   "mimetype": "text/x-python",
   "name": "python",
   "nbconvert_exporter": "python",
   "pygments_lexer": "ipython3",
   "version": "3.8.5"
  }
 },
 "nbformat": 4,
 "nbformat_minor": 5
}
